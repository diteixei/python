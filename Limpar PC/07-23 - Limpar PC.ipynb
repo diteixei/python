{
 "cells": [
  {
   "cell_type": "code",
   "execution_count": 10,
   "id": "b3d4ffc5",
   "metadata": {},
   "outputs": [],
   "source": [
    "#deleter\n",
    "import os\n",
    "\n",
    "caminho = \"local\"\n",
    "lista_arquivos = os.listdir(caminho)\n",
    "\n",
    "for arquivo in lista_arquivos:\n",
    "    nome_completo = f'{caminho}/{arquivo}'\n",
    "    tamanho = os.path.getsize(nome_completo) / 1000000 # mb\n",
    "    if tamanho > 1000:\n",
    "        os.remove(nome_completo)"
   ]
  },
  {
   "cell_type": "code",
   "execution_count": 11,
   "id": "132ab6d0",
   "metadata": {},
   "outputs": [],
   "source": [
    "# visualizar\n",
    "import os\n",
    "\n",
    "caminho = \"local\"\n",
    "lista_arquivos = os.listdir(caminho)\n",
    "\n",
    "for arquivo in lista_arquivos:\n",
    "    nome_completo = f'{caminho}/{arquivo}'\n",
    "    tamanho = os.path.getsize(nome_completo) / 1000000 # mb\n",
    "    if tamanho > 1000:\n",
    "        print(arquivo, tamanho)"
   ]
  },
  {
   "cell_type": "code",
   "execution_count": null,
   "id": "602f0ea5",
   "metadata": {},
   "outputs": [],
   "source": []
  }
 ],
 "metadata": {
  "kernelspec": {
   "display_name": "Python 3 (ipykernel)",
   "language": "python",
   "name": "python3"
  },
  "language_info": {
   "codemirror_mode": {
    "name": "ipython",
    "version": 3
   },
   "file_extension": ".py",
   "mimetype": "text/x-python",
   "name": "python",
   "nbconvert_exporter": "python",
   "pygments_lexer": "ipython3",
   "version": "3.9.7"
  }
 },
 "nbformat": 4,
 "nbformat_minor": 5
}
