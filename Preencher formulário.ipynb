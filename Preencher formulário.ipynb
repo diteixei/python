{
 "cells": [
  {
   "cell_type": "code",
   "execution_count": 6,
   "id": "30f740dc",
   "metadata": {},
   "outputs": [
    {
     "name": "stdout",
     "output_type": "stream",
     "text": [
      "Versão do navegador: 121.0.6167.140\n"
     ]
    }
   ],
   "source": [
    "from selenium import webdriver\n",
    "from webdriver_manager.chrome import ChromeDriverManager\n",
    "from selenium.webdriver.chrome.service import Service\n",
    "\n",
    "servico = Service(ChromeDriverManager().install())\n",
    "navegador = webdriver.Chrome(service=servico)\n",
    "\n",
    "print(f\"Versão do navegador: {navegador.capabilities['browserVersion']}\")\n",
    "\n",
    "navegador.get(\"https://pages.hashtagtreinamentos.com/inscricao-minicurso-python-automacao-org?origemurl=hashtag_yt_org_minipython_8AMNaVt0z_M\")\n",
    "\n",
    "navegador.find_element('xpath', '//*[@id=\"section-10356508\"]/section/div[2]/div/div[2]/form/div[1]/div/div[1]/div/input').send_keys(\"DIEGO\")\n",
    "navegador.find_element('xpath', '//*[@id=\"section-10356508\"]/section/div[2]/div/div[2]/form/div[1]/div/div[2]/div/input').send_keys(\"diteixei@gmail.com\")\n",
    "navegador.find_element('xpath', '//*[@id=\"section-10356508\"]/section/div[2]/div/div[2]/form/div[1]/div/div[3]/div/input').send_keys(\"21 999999999\")\n",
    "navegador.find_element('xpath', '//*[@id=\"section-10356508\"]/section/div[2]/div/div[2]/form/button/span/b').click()"
   ]
  },
  {
   "cell_type": "code",
   "execution_count": null,
   "id": "499fdb8a",
   "metadata": {},
   "outputs": [],
   "source": [
    "\n",
    "\n",
    "\n",
    "\n",
    "\n",
    "\n",
    "\n",
    "# Criando a planilha\n",
    "workbook = openpyxl.Workbook()\n",
    "# Criando a página 'produtos'\n",
    "workbook.create_sheet('produtos')\n",
    "# Seleciono a página produtos\n",
    "sheet_produtos = workbook['produtos']\n",
    "sheet_produtos['A1'].value = 'Produto'\n",
    "sheet_produtos['B1'].value = 'Preço'\n",
    "\n",
    "\n",
    "# inserir os títulos e preços na planilha\n",
    "for titulo, preco in zip(titulos, precos):\n",
    "    sheet_produtos.append([titulo.text,preco.text])\n",
    "\n",
    "workbook.save('produtos.xlsx')\n",
    "\n",
    "# como entregar para o cliente"
   ]
  }
 ],
 "metadata": {
  "kernelspec": {
   "display_name": "Python 3 (ipykernel)",
   "language": "python",
   "name": "python3"
  },
  "language_info": {
   "codemirror_mode": {
    "name": "ipython",
    "version": 3
   },
   "file_extension": ".py",
   "mimetype": "text/x-python",
   "name": "python",
   "nbconvert_exporter": "python",
   "pygments_lexer": "ipython3",
   "version": "3.11.5"
  }
 },
 "nbformat": 4,
 "nbformat_minor": 5
}
