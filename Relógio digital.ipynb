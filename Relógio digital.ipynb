{
 "cells": [
  {
   "cell_type": "code",
   "execution_count": 19,
   "id": "2154928e",
   "metadata": {},
   "outputs": [],
   "source": [
    "from tkinter import *\n",
    "import tkinter\n",
    "from datetime import datetime\n",
    "\n",
    "###### Cores usadas #######\n",
    "cor1 = \"#3d3d3d\"  # preta\n",
    "cor2 = \"#fafcff\"  # branca\n",
    "cor3 = \"#21c25c\"  # verde\n",
    "cor4 = \"#eb463b\"  # vermelha\n",
    "cor5 = \"#dedcdc\"  # cinza\n",
    "cor6 = \"#3080f0\"  # azul\n",
    "\n",
    "fundo = cor1\n",
    "cor = cor2\n",
    "\n",
    "janela = Tk()\n",
    "janela.title(\"\")  # Corrigindo o nome do método 'title'\n",
    "janela.geometry(\"440x180\")\n",
    "janela.resizable(width=FALSE, height=FALSE)\n",
    "janela.configure(bg=cor1)\n",
    "\n",
    "def relogio():  # Adicionando ':' após a declaração da função\n",
    "    tempo=datetime.now()\n",
    "    \n",
    "    hora=tempo.strftime(\"%H:%M:%S\")\n",
    "    dia_semana = tempo.strftime(\"%A\")\n",
    "    dia=tempo.day\n",
    "    mes=tempo.strftime(\"%B\")\n",
    "    ano=tempo.strftime(\"%Y\")\n",
    "    \n",
    "    l1.config(text=hora)\n",
    "    l1.after(200, relogio)\n",
    "    l2.config(text=dia_semana + \" \" + str(dia) + \"/\" + str(mes) + \"/\" + str(ano))\n",
    "\n",
    "l1=Label(janela, text=\"\", font=(\"Arial\", 80), bg=fundo, fg=cor)\n",
    "l1.grid(row=0, column=0, sticky=NW, padx=5)  \n",
    "\n",
    "l2=Label(janela, text=\"\", font=(\"Arial\", 20), bg=fundo, fg=cor)\n",
    "l2.grid(row=1, column=0, sticky=NW, padx=5)  # Corrigindo o índice da linha\n",
    "\n",
    "relogio()\n",
    "janela.mainloop()  # Adicionando a chamada para o método mainloop()"
   ]
  },
  {
   "cell_type": "code",
   "execution_count": 18,
   "id": "f4daac07",
   "metadata": {},
   "outputs": [],
   "source": []
  },
  {
   "cell_type": "code",
   "execution_count": null,
   "id": "7d2ea732",
   "metadata": {},
   "outputs": [],
   "source": []
  }
 ],
 "metadata": {
  "kernelspec": {
   "display_name": "Python 3 (ipykernel)",
   "language": "python",
   "name": "python3"
  },
  "language_info": {
   "codemirror_mode": {
    "name": "ipython",
    "version": 3
   },
   "file_extension": ".py",
   "mimetype": "text/x-python",
   "name": "python",
   "nbconvert_exporter": "python",
   "pygments_lexer": "ipython3",
   "version": "3.11.5"
  }
 },
 "nbformat": 4,
 "nbformat_minor": 5
}
