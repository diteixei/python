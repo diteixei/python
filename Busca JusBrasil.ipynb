{
 "cells": [
  {
   "cell_type": "code",
   "execution_count": null,
   "id": "7036da7b",
   "metadata": {},
   "outputs": [],
   "source": [
    "from selenium import webdriver\n",
    "from webdriver_manager.chrome import ChromeDriverManager\n",
    "from selenium.webdriver.chrome.service import Service\n",
    "\n",
    "servico = Service(ChromeDriverManager().install())\n",
    "navegador = webdriver.Chrome(service=servico)\n",
    "\n",
    "print(f\"Versão do navegador: {navegador.capabilities['browserVersion']}\")\n",
    "\n",
    "navegador.get(\"https://www.jusbrasil.com.br/iniciar-pesquisa/\")\n",
    "\n",
    "navegador.find_element('xpath', '/html/body/div[2]/topbar/header/navbar/nav/ul/li[3]/a').click()\n",
    "navegador.find_element('xpath', '//*[@id=\"CourtsBottomSearch-form\"]/fieldset/div/input').send_keys(\"AÇÃO DECLARATÓRIA DE INEXISTÊNCIA DE DÉBITO C/C DANO MORAL E PEDIDO DE TUTELA DE URGÊNCIA\")\n",
    "navegador.find_element('xpath', '//*[@id=\"CourtsBottomSearch-form\"]/fieldset/div/div[1]/button').click()\n",
    "navegador.find_element('xpath', '//*[@id=\"section-10356508\"]/section/div[2]/div/div[2]/form/button/span/b').click()"
   ]
  },
  {
   "cell_type": "code",
   "execution_count": 1,
   "id": "2103801e",
   "metadata": {},
   "outputs": [
    {
     "name": "stdout",
     "output_type": "stream",
     "text": [
      "Versão do navegador: 121.0.6167.140\n"
     ]
    }
   ],
   "source": [
    "from selenium import webdriver\n",
    "from webdriver_manager.chrome import ChromeDriverManager\n",
    "from selenium.webdriver.chrome.service import Service\n",
    "\n",
    "servico = Service(ChromeDriverManager().install())\n",
    "navegador = webdriver.Chrome(service=servico)\n",
    "\n",
    "print(f\"Versão do navegador: {navegador.capabilities['browserVersion']}\")"
   ]
  },
  {
   "cell_type": "code",
   "execution_count": 2,
   "id": "b3f4740f",
   "metadata": {},
   "outputs": [],
   "source": [
    "navegador.get(\"https://www.jusbrasil.com.br/iniciar-pesquisa/\")"
   ]
  },
  {
   "cell_type": "code",
   "execution_count": null,
   "id": "b76c9f1c",
   "metadata": {},
   "outputs": [],
   "source": []
  }
 ],
 "metadata": {
  "kernelspec": {
   "display_name": "Python 3 (ipykernel)",
   "language": "python",
   "name": "python3"
  },
  "language_info": {
   "codemirror_mode": {
    "name": "ipython",
    "version": 3
   },
   "file_extension": ".py",
   "mimetype": "text/x-python",
   "name": "python",
   "nbconvert_exporter": "python",
   "pygments_lexer": "ipython3",
   "version": "3.11.5"
  }
 },
 "nbformat": 4,
 "nbformat_minor": 5
}
