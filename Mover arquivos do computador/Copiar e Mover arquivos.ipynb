{
 "cells": [
  {
   "cell_type": "markdown",
   "id": "3ce720c2",
   "metadata": {},
   "source": [
    "### Biblioteca os"
   ]
  },
  {
   "cell_type": "code",
   "execution_count": 16,
   "id": "119b1424",
   "metadata": {},
   "outputs": [
    {
     "name": "stdout",
     "output_type": "stream",
     "text": [
      "['.ipynb_checkpoints', 'Compras', 'Compras - AA987899.xlsx', 'Compras - AD321146.xlsx', 'Compras - EB192301.xlsx', 'Compras - EF545455.xlsx', 'Copiar e Mover arquivos-Copy1.ipynb', 'Copiar e Mover arquivos.ipynb', 'Vendas', 'Vendas - 1.xlsx', 'Vendas - 2.xlsx', 'Vendas - 3.xlsx', 'Vendas - 4.xlsx']\n"
     ]
    }
   ],
   "source": [
    "# listar arquivos\n",
    "import os\n",
    "\n",
    "arquivos = os.listdir()\n",
    "print(arquivos)"
   ]
  },
  {
   "cell_type": "code",
   "execution_count": 17,
   "id": "0cee8a34",
   "metadata": {},
   "outputs": [
    {
     "name": "stdout",
     "output_type": "stream",
     "text": [
      "C:\\Users\\joaol\\Desktop\\Videos Youtube\\Copiar e Mover Arquivo\n"
     ]
    }
   ],
   "source": [
    "# caminho da pasta\n",
    "caminho = os.getcwd()\n",
    "print(caminho)"
   ]
  },
  {
   "cell_type": "code",
   "execution_count": 19,
   "id": "ad950cce",
   "metadata": {},
   "outputs": [],
   "source": [
    "# renomear\n",
    "# os.rename('Vendas - 1.xlsx', 'Vendas 1.xlsx')\n",
    "# mover\n",
    "os.rename('Vendas - 1.xlsx', 'Vendas\\Vendas - 1.xlsx')"
   ]
  },
  {
   "cell_type": "code",
   "execution_count": 20,
   "id": "9820ac52",
   "metadata": {},
   "outputs": [
    {
     "data": {
      "text/plain": [
       "'Vendas\\\\Vendas - 1.xlsx'"
      ]
     },
     "execution_count": 20,
     "metadata": {},
     "output_type": "execute_result"
    }
   ],
   "source": [
    "# copiar arquivos\n",
    "import shutil\n",
    "\n",
    "shutil.copy2('Vendas - 1.xlsx', 'Vendas\\Vendas - 1.xlsx')"
   ]
  },
  {
   "cell_type": "markdown",
   "id": "7b0da90e",
   "metadata": {},
   "source": [
    "### Aplicação"
   ]
  },
  {
   "cell_type": "code",
   "execution_count": 23,
   "id": "2d828aa1",
   "metadata": {},
   "outputs": [],
   "source": [
    "lista_arquivos = os.listdir()\n",
    "\n",
    "for arquivo in lista_arquivos:\n",
    "    if 'xlsx' in arquivo:\n",
    "        if \"Compras\" in arquivo:\n",
    "            # jogar pra pasta de compras\n",
    "            os.rename(arquivo, f'Compras//{arquivo}')\n",
    "        elif \"Vendas\" in arquivo:\n",
    "            # jogar pra pasta de vendas\n",
    "            os.rename(arquivo, f'Vendas//{arquivo}')"
   ]
  },
  {
   "cell_type": "code",
   "execution_count": null,
   "id": "a03f3021",
   "metadata": {},
   "outputs": [],
   "source": []
  }
 ],
 "metadata": {
  "kernelspec": {
   "display_name": "Python 3 (ipykernel)",
   "language": "python",
   "name": "python3"
  },
  "language_info": {
   "codemirror_mode": {
    "name": "ipython",
    "version": 3
   },
   "file_extension": ".py",
   "mimetype": "text/x-python",
   "name": "python",
   "nbconvert_exporter": "python",
   "pygments_lexer": "ipython3",
   "version": "3.9.7"
  }
 },
 "nbformat": 4,
 "nbformat_minor": 5
}
