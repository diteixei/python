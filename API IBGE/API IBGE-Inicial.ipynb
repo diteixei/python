{
 "cells": [
  {
   "cell_type": "markdown",
   "id": "ad2d00dc",
   "metadata": {},
   "source": [
    "### API IBGE\n",
    "\n",
    "https://servicodados.ibge.gov.br/api/docs"
   ]
  },
  {
   "cell_type": "code",
   "execution_count": 18,
   "id": "17ec9d9f",
   "metadata": {},
   "outputs": [],
   "source": []
  }
 ],
 "metadata": {
  "kernelspec": {
   "display_name": "Python 3 (ipykernel)",
   "language": "python",
   "name": "python3"
  },
  "language_info": {
   "codemirror_mode": {
    "name": "ipython",
    "version": 3
   },
   "file_extension": ".py",
   "mimetype": "text/x-python",
   "name": "python",
   "nbconvert_exporter": "python",
   "pygments_lexer": "ipython3",
   "version": "3.9.7"
  }
 },
 "nbformat": 4,
 "nbformat_minor": 5
}
